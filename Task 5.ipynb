{
 "cells": [
  {
   "cell_type": "code",
   "execution_count": 20,
   "id": "75df4a14",
   "metadata": {},
   "outputs": [],
   "source": [
    "import pandas as pd\n",
    "import numpy as np\n",
    "import matplotlib.pyplot as plt\n",
    "import seaborn as sns\n",
    "from sklearn.model_selection import train_test_split\n",
    "from sklearn.linear_model import LinearRegression\n",
    "from sklearn.preprocessing import StandardScaler\n",
    "from sklearn.metrics import mean_squared_error ,r2_score\n",
    "from sklearn.ensemble import GradientBoostingRegressor\n",
    "from sklearn.ensemble import RandomForestRegressor\n",
    "from sklearn.svm import SVR\n",
    "from sklearn.linear_model import Lasso\n",
    "from sklearn.linear_model import Ridge\n",
    "import xgboost as xgb\n",
    "import warnings\n",
    "warnings.filterwarnings('ignore')"
   ]
  },
  {
   "cell_type": "code",
   "execution_count": 21,
   "id": "85b7c531",
   "metadata": {},
   "outputs": [],
   "source": [
    "df=pd.read_csv('Advertising.csv')"
   ]
  },
  {
   "cell_type": "code",
   "execution_count": 22,
   "id": "6db99220",
   "metadata": {},
   "outputs": [
    {
     "data": {
      "text/html": [
       "<div>\n",
       "<style scoped>\n",
       "    .dataframe tbody tr th:only-of-type {\n",
       "        vertical-align: middle;\n",
       "    }\n",
       "\n",
       "    .dataframe tbody tr th {\n",
       "        vertical-align: top;\n",
       "    }\n",
       "\n",
       "    .dataframe thead th {\n",
       "        text-align: right;\n",
       "    }\n",
       "</style>\n",
       "<table border=\"1\" class=\"dataframe\">\n",
       "  <thead>\n",
       "    <tr style=\"text-align: right;\">\n",
       "      <th></th>\n",
       "      <th>Unnamed: 0</th>\n",
       "      <th>TV</th>\n",
       "      <th>Radio</th>\n",
       "      <th>Newspaper</th>\n",
       "      <th>Sales</th>\n",
       "    </tr>\n",
       "  </thead>\n",
       "  <tbody>\n",
       "    <tr>\n",
       "      <th>0</th>\n",
       "      <td>1</td>\n",
       "      <td>230.1</td>\n",
       "      <td>37.8</td>\n",
       "      <td>69.2</td>\n",
       "      <td>22.1</td>\n",
       "    </tr>\n",
       "    <tr>\n",
       "      <th>1</th>\n",
       "      <td>2</td>\n",
       "      <td>44.5</td>\n",
       "      <td>39.3</td>\n",
       "      <td>45.1</td>\n",
       "      <td>10.4</td>\n",
       "    </tr>\n",
       "    <tr>\n",
       "      <th>2</th>\n",
       "      <td>3</td>\n",
       "      <td>17.2</td>\n",
       "      <td>45.9</td>\n",
       "      <td>69.3</td>\n",
       "      <td>9.3</td>\n",
       "    </tr>\n",
       "    <tr>\n",
       "      <th>3</th>\n",
       "      <td>4</td>\n",
       "      <td>151.5</td>\n",
       "      <td>41.3</td>\n",
       "      <td>58.5</td>\n",
       "      <td>18.5</td>\n",
       "    </tr>\n",
       "    <tr>\n",
       "      <th>4</th>\n",
       "      <td>5</td>\n",
       "      <td>180.8</td>\n",
       "      <td>10.8</td>\n",
       "      <td>58.4</td>\n",
       "      <td>12.9</td>\n",
       "    </tr>\n",
       "    <tr>\n",
       "      <th>5</th>\n",
       "      <td>6</td>\n",
       "      <td>8.7</td>\n",
       "      <td>48.9</td>\n",
       "      <td>75.0</td>\n",
       "      <td>7.2</td>\n",
       "    </tr>\n",
       "    <tr>\n",
       "      <th>6</th>\n",
       "      <td>7</td>\n",
       "      <td>57.5</td>\n",
       "      <td>32.8</td>\n",
       "      <td>23.5</td>\n",
       "      <td>11.8</td>\n",
       "    </tr>\n",
       "    <tr>\n",
       "      <th>7</th>\n",
       "      <td>8</td>\n",
       "      <td>120.2</td>\n",
       "      <td>19.6</td>\n",
       "      <td>11.6</td>\n",
       "      <td>13.2</td>\n",
       "    </tr>\n",
       "    <tr>\n",
       "      <th>8</th>\n",
       "      <td>9</td>\n",
       "      <td>8.6</td>\n",
       "      <td>2.1</td>\n",
       "      <td>1.0</td>\n",
       "      <td>4.8</td>\n",
       "    </tr>\n",
       "    <tr>\n",
       "      <th>9</th>\n",
       "      <td>10</td>\n",
       "      <td>199.8</td>\n",
       "      <td>2.6</td>\n",
       "      <td>21.2</td>\n",
       "      <td>10.6</td>\n",
       "    </tr>\n",
       "  </tbody>\n",
       "</table>\n",
       "</div>"
      ],
      "text/plain": [
       "   Unnamed: 0     TV  Radio  Newspaper  Sales\n",
       "0           1  230.1   37.8       69.2   22.1\n",
       "1           2   44.5   39.3       45.1   10.4\n",
       "2           3   17.2   45.9       69.3    9.3\n",
       "3           4  151.5   41.3       58.5   18.5\n",
       "4           5  180.8   10.8       58.4   12.9\n",
       "5           6    8.7   48.9       75.0    7.2\n",
       "6           7   57.5   32.8       23.5   11.8\n",
       "7           8  120.2   19.6       11.6   13.2\n",
       "8           9    8.6    2.1        1.0    4.8\n",
       "9          10  199.8    2.6       21.2   10.6"
      ]
     },
     "execution_count": 22,
     "metadata": {},
     "output_type": "execute_result"
    }
   ],
   "source": [
    "df.head(10)"
   ]
  },
  {
   "cell_type": "code",
   "execution_count": 23,
   "id": "1ff06ef5",
   "metadata": {},
   "outputs": [
    {
     "name": "stdout",
     "output_type": "stream",
     "text": [
      "<class 'pandas.core.frame.DataFrame'>\n",
      "RangeIndex: 200 entries, 0 to 199\n",
      "Data columns (total 5 columns):\n",
      " #   Column      Non-Null Count  Dtype  \n",
      "---  ------      --------------  -----  \n",
      " 0   Unnamed: 0  200 non-null    int64  \n",
      " 1   TV          200 non-null    float64\n",
      " 2   Radio       200 non-null    float64\n",
      " 3   Newspaper   200 non-null    float64\n",
      " 4   Sales       200 non-null    float64\n",
      "dtypes: float64(4), int64(1)\n",
      "memory usage: 7.9 KB\n"
     ]
    }
   ],
   "source": [
    "df.info()"
   ]
  },
  {
   "cell_type": "code",
   "execution_count": 24,
   "id": "d2d664b4",
   "metadata": {},
   "outputs": [
    {
     "data": {
      "text/html": [
       "<style type=\"text/css\">\n",
       "#T_d3c92_row0_col1, #T_d3c92_row0_col2, #T_d3c92_row0_col3, #T_d3c92_row1_col1, #T_d3c92_row1_col2, #T_d3c92_row1_col3, #T_d3c92_row2_col1, #T_d3c92_row2_col2, #T_d3c92_row2_col3, #T_d3c92_row2_col4, #T_d3c92_row3_col1, #T_d3c92_row3_col2, #T_d3c92_row3_col3, #T_d3c92_row4_col1, #T_d3c92_row4_col2, #T_d3c92_row4_col3, #T_d3c92_row4_col5, #T_d3c92_row4_col6 {\n",
       "  background-color: #f7fbff;\n",
       "  color: #000000;\n",
       "}\n",
       "#T_d3c92_row0_col4 {\n",
       "  background-color: #4191c6;\n",
       "  color: #f1f1f1;\n",
       "}\n",
       "#T_d3c92_row0_col5 {\n",
       "  background-color: #3d8dc4;\n",
       "  color: #f1f1f1;\n",
       "}\n",
       "#T_d3c92_row0_col6 {\n",
       "  background-color: #3b8bc2;\n",
       "  color: #f1f1f1;\n",
       "}\n",
       "#T_d3c92_row1_col4 {\n",
       "  background-color: #85bcdc;\n",
       "  color: #000000;\n",
       "}\n",
       "#T_d3c92_row1_col5, #T_d3c92_row1_col6, #T_d3c92_row4_col4 {\n",
       "  background-color: #08306b;\n",
       "  color: #f1f1f1;\n",
       "}\n",
       "#T_d3c92_row2_col5 {\n",
       "  background-color: #e7f0fa;\n",
       "  color: #000000;\n",
       "}\n",
       "#T_d3c92_row2_col6 {\n",
       "  background-color: #eaf2fb;\n",
       "  color: #000000;\n",
       "}\n",
       "#T_d3c92_row3_col4 {\n",
       "  background-color: #d3e3f3;\n",
       "  color: #000000;\n",
       "}\n",
       "#T_d3c92_row3_col5 {\n",
       "  background-color: #afd1e7;\n",
       "  color: #000000;\n",
       "}\n",
       "#T_d3c92_row3_col6 {\n",
       "  background-color: #dfebf7;\n",
       "  color: #000000;\n",
       "}\n",
       "</style>\n",
       "<table id=\"T_d3c92_\">\n",
       "  <thead>\n",
       "    <tr>\n",
       "      <th class=\"blank level0\" >&nbsp;</th>\n",
       "      <th class=\"col_heading level0 col0\" >dtypes</th>\n",
       "      <th class=\"col_heading level0 col1\" >missing#</th>\n",
       "      <th class=\"col_heading level0 col2\" >missing%</th>\n",
       "      <th class=\"col_heading level0 col3\" >uniques</th>\n",
       "      <th class=\"col_heading level0 col4\" >min</th>\n",
       "      <th class=\"col_heading level0 col5\" >max</th>\n",
       "      <th class=\"col_heading level0 col6\" >mean</th>\n",
       "    </tr>\n",
       "  </thead>\n",
       "  <tbody>\n",
       "    <tr>\n",
       "      <th id=\"T_d3c92_level0_row0\" class=\"row_heading level0 row0\" >Unnamed: 0</th>\n",
       "      <td id=\"T_d3c92_row0_col0\" class=\"data row0 col0\" >int64</td>\n",
       "      <td id=\"T_d3c92_row0_col1\" class=\"data row0 col1\" >0</td>\n",
       "      <td id=\"T_d3c92_row0_col2\" class=\"data row0 col2\" >0.000000</td>\n",
       "      <td id=\"T_d3c92_row0_col3\" class=\"data row0 col3\" >200</td>\n",
       "      <td id=\"T_d3c92_row0_col4\" class=\"data row0 col4\" >1.000000</td>\n",
       "      <td id=\"T_d3c92_row0_col5\" class=\"data row0 col5\" >200.000000</td>\n",
       "      <td id=\"T_d3c92_row0_col6\" class=\"data row0 col6\" >100.500000</td>\n",
       "    </tr>\n",
       "    <tr>\n",
       "      <th id=\"T_d3c92_level0_row1\" class=\"row_heading level0 row1\" >TV</th>\n",
       "      <td id=\"T_d3c92_row1_col0\" class=\"data row1 col0\" >float64</td>\n",
       "      <td id=\"T_d3c92_row1_col1\" class=\"data row1 col1\" >0</td>\n",
       "      <td id=\"T_d3c92_row1_col2\" class=\"data row1 col2\" >0.000000</td>\n",
       "      <td id=\"T_d3c92_row1_col3\" class=\"data row1 col3\" >200</td>\n",
       "      <td id=\"T_d3c92_row1_col4\" class=\"data row1 col4\" >0.700000</td>\n",
       "      <td id=\"T_d3c92_row1_col5\" class=\"data row1 col5\" >296.400000</td>\n",
       "      <td id=\"T_d3c92_row1_col6\" class=\"data row1 col6\" >147.042500</td>\n",
       "    </tr>\n",
       "    <tr>\n",
       "      <th id=\"T_d3c92_level0_row2\" class=\"row_heading level0 row2\" >Radio</th>\n",
       "      <td id=\"T_d3c92_row2_col0\" class=\"data row2 col0\" >float64</td>\n",
       "      <td id=\"T_d3c92_row2_col1\" class=\"data row2 col1\" >0</td>\n",
       "      <td id=\"T_d3c92_row2_col2\" class=\"data row2 col2\" >0.000000</td>\n",
       "      <td id=\"T_d3c92_row2_col3\" class=\"data row2 col3\" >200</td>\n",
       "      <td id=\"T_d3c92_row2_col4\" class=\"data row2 col4\" >0.000000</td>\n",
       "      <td id=\"T_d3c92_row2_col5\" class=\"data row2 col5\" >49.600000</td>\n",
       "      <td id=\"T_d3c92_row2_col6\" class=\"data row2 col6\" >23.264000</td>\n",
       "    </tr>\n",
       "    <tr>\n",
       "      <th id=\"T_d3c92_level0_row3\" class=\"row_heading level0 row3\" >Newspaper</th>\n",
       "      <td id=\"T_d3c92_row3_col0\" class=\"data row3 col0\" >float64</td>\n",
       "      <td id=\"T_d3c92_row3_col1\" class=\"data row3 col1\" >0</td>\n",
       "      <td id=\"T_d3c92_row3_col2\" class=\"data row3 col2\" >0.000000</td>\n",
       "      <td id=\"T_d3c92_row3_col3\" class=\"data row3 col3\" >200</td>\n",
       "      <td id=\"T_d3c92_row3_col4\" class=\"data row3 col4\" >0.300000</td>\n",
       "      <td id=\"T_d3c92_row3_col5\" class=\"data row3 col5\" >114.000000</td>\n",
       "      <td id=\"T_d3c92_row3_col6\" class=\"data row3 col6\" >30.554000</td>\n",
       "    </tr>\n",
       "    <tr>\n",
       "      <th id=\"T_d3c92_level0_row4\" class=\"row_heading level0 row4\" >Sales</th>\n",
       "      <td id=\"T_d3c92_row4_col0\" class=\"data row4 col0\" >float64</td>\n",
       "      <td id=\"T_d3c92_row4_col1\" class=\"data row4 col1\" >0</td>\n",
       "      <td id=\"T_d3c92_row4_col2\" class=\"data row4 col2\" >0.000000</td>\n",
       "      <td id=\"T_d3c92_row4_col3\" class=\"data row4 col3\" >200</td>\n",
       "      <td id=\"T_d3c92_row4_col4\" class=\"data row4 col4\" >1.600000</td>\n",
       "      <td id=\"T_d3c92_row4_col5\" class=\"data row4 col5\" >27.000000</td>\n",
       "      <td id=\"T_d3c92_row4_col6\" class=\"data row4 col6\" >14.022500</td>\n",
       "    </tr>\n",
       "  </tbody>\n",
       "</table>\n"
      ],
      "text/plain": [
       "<pandas.io.formats.style.Styler at 0x20cb2655fd0>"
      ]
     },
     "execution_count": 24,
     "metadata": {},
     "output_type": "execute_result"
    }
   ],
   "source": [
    "def summary(df):\n",
    "    sum = pd.DataFrame(df.dtypes, columns = ['dtypes'])\n",
    "    sum['missing#'] = df.isna().sum()\n",
    "    sum['missing%'] = (df.isna().sum().values*100)/len(df)\n",
    "    sum['uniques'] = df.count().values\n",
    "    desc = pd.DataFrame(df.describe().T)\n",
    "    sum['min'] = desc['min']\n",
    "    sum['max'] = desc['max']\n",
    "    sum['mean'] = desc['mean']\n",
    "    return sum\n",
    "summary(df).style.background_gradient(cmap='Blues')"
   ]
  },
  {
   "cell_type": "code",
   "execution_count": 25,
   "id": "fbf943d4",
   "metadata": {},
   "outputs": [
    {
     "data": {
      "text/plain": [
       "0"
      ]
     },
     "execution_count": 25,
     "metadata": {},
     "output_type": "execute_result"
    }
   ],
   "source": [
    "df.duplicated().sum()"
   ]
  },
  {
   "cell_type": "code",
   "execution_count": 26,
   "id": "d0d6a68c",
   "metadata": {},
   "outputs": [],
   "source": [
    "df.drop(['Unnamed: 0'],axis=1,inplace=True)"
   ]
  },
  {
   "cell_type": "code",
   "execution_count": 27,
   "id": "7c3344d0",
   "metadata": {},
   "outputs": [
    {
     "data": {
      "text/plain": [
       "Index(['TV', 'Radio', 'Newspaper', 'Sales'], dtype='object')"
      ]
     },
     "execution_count": 27,
     "metadata": {},
     "output_type": "execute_result"
    }
   ],
   "source": [
    "df.columns"
   ]
  },
  {
   "cell_type": "code",
   "execution_count": 28,
   "id": "b803fec6",
   "metadata": {},
   "outputs": [
    {
     "data": {
      "image/png": "[encoded data removed]",
      "text/plain": [
       "<Figure size 432x288 with 1 Axes>"
      ]
     },
     "metadata": {
      "needs_background": "light"
     },
     "output_type": "display_data"
    },
    {
     "data": {
      "image/png": "[encoded data removed]",
      "text/plain": [
       "<Figure size 432x288 with 1 Axes>"
      ]
     },
     "metadata": {
      "needs_background": "light"
     },
     "output_type": "display_data"
    },
    {
     "data": {
      "image/png": "[encoded data removed]",
      "text/plain": [
       "<Figure size 432x288 with 1 Axes>"
      ]
     },
     "metadata": {
      "needs_background": "light"
     },
     "output_type": "display_data"
    }
   ],
   "source": [
    "for col in df.columns[:-1]:\n",
    "    plt.scatter(df[col], df['Sales'])\n",
    "    plt.xlabel(f'{col} Adevertising Expenditure')\n",
    "    plt.ylabel('sales (Units)')\n",
    "    plt.title(f'{col} Advertising Expenditure vs. Sales')\n",
    "    plt.grid(True)\n",
    "    plt.show()"
   ]
  },
  {
   "cell_type": "code",
   "execution_count": 29,
   "id": "b8207c0e",
   "metadata": {},
   "outputs": [
    {
     "data": {
      "text/plain": [
       "<seaborn.axisgrid.FacetGrid at 0x20cb48957f0>"
      ]
     },
     "execution_count": 29,
     "metadata": {},
     "output_type": "execute_result"
    },
    {
     "data": {
      "text/plain": [
       "<Figure size 720x504 with 0 Axes>"
      ]
     },
     "metadata": {},
     "output_type": "display_data"
    },
    {
     "data": {
      "image/png": "[encoded data removed]",
      "text/plain": [
       "<Figure size 360x360 with 1 Axes>"
      ]
     },
     "metadata": {
      "needs_background": "light"
     },
     "output_type": "display_data"
    }
   ],
   "source": [
    "plt.figure(figsize=(10,7))\n",
    "sns.displot(df['TV'],kde=True)"
   ]
  },
  {
   "cell_type": "code",
   "execution_count": 30,
   "id": "464dcd5f",
   "metadata": {},
   "outputs": [
    {
     "data": {
      "text/plain": [
       "<seaborn.axisgrid.FacetGrid at 0x20cb495caf0>"
      ]
     },
     "execution_count": 30,
     "metadata": {},
     "output_type": "execute_result"
    },
    {
     "data": {
      "text/plain": [
       "<Figure size 720x504 with 0 Axes>"
      ]
     },
     "metadata": {},
     "output_type": "display_data"
    },
    {
     "data": {
      "image/png": "[encoded data removed]",
      "text/plain": [
       "<Figure size 360x360 with 1 Axes>"
      ]
     },
     "metadata": {
      "needs_background": "light"
     },
     "output_type": "display_data"
    }
   ],
   "source": [
    "plt.figure(figsize=(10,7))\n",
    "sns.displot(df['Newspaper'],kde=True)"
   ]
  },
  {
   "cell_type": "code",
   "execution_count": 31,
   "id": "95af23fb",
   "metadata": {},
   "outputs": [
    {
     "data": {
      "text/plain": [
       "<seaborn.axisgrid.FacetGrid at 0x20cb49cbc10>"
      ]
     },
     "execution_count": 31,
     "metadata": {},
     "output_type": "execute_result"
    },
    {
     "data": {
      "text/plain": [
       "<Figure size 720x504 with 0 Axes>"
      ]
     },
     "metadata": {},
     "output_type": "display_data"
    },
    {
     "data": {
      "image/png": "[encoded data removed]",
      "text/plain": [
       "<Figure size 360x360 with 1 Axes>"
      ]
     },
     "metadata": {
      "needs_background": "light"
     },
     "output_type": "display_data"
    }
   ],
   "source": [
    "plt.figure(figsize=(10,7))\n",
    "sns.displot(df['Radio'],kde=True)"
   ]
  },
  {
   "cell_type": "code",
   "execution_count": 32,
   "id": "ca9e33b9",
   "metadata": {},
   "outputs": [
    {
     "data": {
      "text/plain": [
       "<seaborn.axisgrid.FacetGrid at 0x20cb4ac1760>"
      ]
     },
     "execution_count": 32,
     "metadata": {},
     "output_type": "execute_result"
    },
    {
     "data": {
      "text/plain": [
       "<Figure size 720x504 with 0 Axes>"
      ]
     },
     "metadata": {},
     "output_type": "display_data"
    },
    {
     "data": {
      "image/png": "[encoded data removed]",
      "text/plain": [
       "<Figure size 360x360 with 1 Axes>"
      ]
     },
     "metadata": {
      "needs_background": "light"
     },
     "output_type": "display_data"
    }
   ],
   "source": [
    "plt.figure(figsize=(10,7))\n",
    "sns.displot(df['Sales'],kde=True)"
   ]
  },
  {
   "cell_type": "code",
   "execution_count": 33,
   "id": "094793ad",
   "metadata": {},
   "outputs": [
    {
     "data": {
      "text/plain": [
       "<AxesSubplot:>"
      ]
     },
     "execution_count": 33,
     "metadata": {},
     "output_type": "execute_result"
    },
    {
     "data": {
      "image/png": "[encoded data removed]",
      "text/plain": [
       "<Figure size 432x288 with 2 Axes>"
      ]
     },
     "metadata": {
      "needs_background": "light"
     },
     "output_type": "display_data"
    }
   ],
   "source": [
    "sns.heatmap(df.corr())"
   ]
  },
  {
   "cell_type": "code",
   "execution_count": 34,
   "id": "9c861e7e",
   "metadata": {},
   "outputs": [
    {
     "data": {
      "text/plain": [
       "<AxesSubplot:>"
      ]
     },
     "execution_count": 34,
     "metadata": {},
     "output_type": "execute_result"
    },
    {
     "data": {
      "image/png": "[encoded data removed]",
      "text/plain": [
       "<Figure size 432x288 with 1 Axes>"
      ]
     },
     "metadata": {
      "needs_background": "light"
     },
     "output_type": "display_data"
    }
   ],
   "source": [
    "df.boxplot()"
   ]
  },
  {
   "cell_type": "code",
   "execution_count": 35,
   "id": "4b44cece",
   "metadata": {},
   "outputs": [
    {
     "name": "stdout",
     "output_type": "stream",
     "text": [
      "column: Newspaper, percentage of outliers: 1.000000%\n"
     ]
    }
   ],
   "source": [
    "import pandas as pd\n",
    "\n",
    "Q1 = df.quantile(0.25)\n",
    "Q3 = df.quantile(0.75)\n",
    "IQR = Q3 - Q1\n",
    "\n",
    "def detect_outliers(column):\n",
    "    lower_bond = Q1[column] - 1.5 * IQR[column]\n",
    "    upper_bond = Q3[column] + 1.5 * IQR[column]\n",
    "    outliers = df[(df[column] < lower_bond) | (df[column] > upper_bond)]\n",
    "    if outliers.empty:\n",
    "        return None, 0.0\n",
    "    else:\n",
    "        percentage = (len(outliers) / len(df)) * 100\n",
    "        return column, percentage\n",
    "    \n",
    "numeric_columns = df.select_dtypes(include=['number']).columns\n",
    "columns_with_outliers = [detect_outliers(column) for column in numeric_columns]\n",
    "columns_with_outliers = [(column, percentage) for column, percentage in columns_with_outliers if column is not None]\n",
    "\n",
    "for column, percentage in columns_with_outliers:\n",
    "    print(f\"column: {column}, percentage of outliers: {percentage:2f}%\")"
   ]
  },
  {
   "cell_type": "code",
   "execution_count": 36,
   "id": "1cdab5ce",
   "metadata": {},
   "outputs": [],
   "source": [
    "def remove_outlier(col):\n",
    "    sorted(col)\n",
    "    Q1,Q3=col.quantile([0.25,0.75])\n",
    "    IQR=Q3-Q1\n",
    "    lower_range=Q1-1.5*IQR\n",
    "    upper_range=Q3+1.5*IQR\n",
    "    return lower_range,upper_range"
   ]
  },
  {
   "cell_type": "code",
   "execution_count": 37,
   "id": "b3c72e43",
   "metadata": {},
   "outputs": [],
   "source": [
    "low_leadtime,high_leadtime=remove_outlier(df['Newspaper'])\n",
    "df['Newspaper']=np.where(df['Newspaper']>high_leadtime,high_leadtime,df['Newspaper'])\n",
    "df['Newspaper']=np.where(df['Newspaper']<low_leadtime,low_leadtime,df['Newspaper'])"
   ]
  },
  {
   "cell_type": "code",
   "execution_count": 38,
   "id": "153c4db0",
   "metadata": {},
   "outputs": [],
   "source": [
    "x=df.drop(['Sales'],axis=1)\n",
    "y=df['Sales']"
   ]
  },
  {
   "cell_type": "code",
   "execution_count": 39,
   "id": "8f0fcd52",
   "metadata": {},
   "outputs": [],
   "source": [
    "xtrain,xtest,ytrain,ytest=train_test_split(x,y,test_size=0.2,random_state=142)"
   ]
  },
  {
   "cell_type": "code",
   "execution_count": 40,
   "id": "1edf1692",
   "metadata": {},
   "outputs": [
    {
     "name": "stdout",
     "output_type": "stream",
     "text": [
      "(160, 3)\n"
     ]
    }
   ],
   "source": [
    "print(xtrain.shape)"
   ]
  },
  {
   "cell_type": "code",
   "execution_count": 41,
   "id": "5a41cbba",
   "metadata": {},
   "outputs": [
    {
     "name": "stdout",
     "output_type": "stream",
     "text": [
      "(40, 3)\n"
     ]
    }
   ],
   "source": [
    "print(xtest.shape)"
   ]
  },
  {
   "cell_type": "code",
   "execution_count": 42,
   "id": "5fea8d8d",
   "metadata": {},
   "outputs": [
    {
     "name": "stdout",
     "output_type": "stream",
     "text": [
      "(160,)\n"
     ]
    }
   ],
   "source": [
    "print(ytrain.shape)"
   ]
  },
  {
   "cell_type": "code",
   "execution_count": 43,
   "id": "e93d80da",
   "metadata": {},
   "outputs": [
    {
     "name": "stdout",
     "output_type": "stream",
     "text": [
      "(40,)\n"
     ]
    }
   ],
   "source": [
    "print(ytest.shape)"
   ]
  },
  {
   "cell_type": "code",
   "execution_count": 44,
   "id": "2f02b91f",
   "metadata": {},
   "outputs": [],
   "source": [
    "scalar=StandardScaler()\n",
    "scalar.fit(xtrain)\n",
    "xtrain_sc=scalar.transform(xtrain)\n",
    "xtest_sc=scalar.transform(xtest)"
   ]
  },
  {
   "cell_type": "code",
   "execution_count": 45,
   "id": "078c1660",
   "metadata": {},
   "outputs": [],
   "source": [
    "lr=LinearRegression()\n",
    "lr.fit(xtrain_sc,ytrain)\n",
    "ypred_train=lr.predict(xtrain_sc)\n",
    "ypred_test=lr.predict(xtest_sc)"
   ]
  },
  {
   "cell_type": "code",
   "execution_count": 46,
   "id": "b169caa0",
   "metadata": {},
   "outputs": [
    {
     "name": "stdout",
     "output_type": "stream",
     "text": [
      "0.8951262853783359\n",
      "0.8999121998584919\n"
     ]
    }
   ],
   "source": [
    "print(r2_score(ytrain,ypred_train))\n",
    "print(r2_score(ytest,ypred_test))"
   ]
  },
  {
   "cell_type": "code",
   "execution_count": 47,
   "id": "b54eeb60",
   "metadata": {},
   "outputs": [],
   "source": [
    "rf=RandomForestRegressor(n_estimators=250,max_depth=25,min_samples_split=8,min_samples_leaf=2)\n",
    "rf.fit(xtrain_sc,ytrain)\n",
    "ypred_train_rf=rf.predict(xtrain_sc)\n",
    "ypred_test_rf=rf.predict(xtest_sc)"
   ]
  },
  {
   "cell_type": "code",
   "execution_count": 48,
   "id": "41ff0429",
   "metadata": {},
   "outputs": [
    {
     "name": "stdout",
     "output_type": "stream",
     "text": [
      "0.9900207924270209\n",
      "0.9758756805814528\n"
     ]
    }
   ],
   "source": [
    "print(r2_score(ytrain,ypred_train_rf))\n",
    "print(r2_score(ytest,ypred_test_rf))"
   ]
  },
  {
   "cell_type": "code",
   "execution_count": 49,
   "id": "545f2bab",
   "metadata": {},
   "outputs": [],
   "source": [
    "XGBoost=xgb.XGBRegressor()            \n",
    "XGBoost.fit(xtrain_sc,ytrain)\n",
    "ypred_train_XGBoost = XGBoost.predict(xtrain_sc)\n",
    "ypred_test_XGBoost = XGBoost.predict(xtest_sc)"
   ]
  },
  {
   "cell_type": "code",
   "execution_count": 50,
   "id": "d7723625",
   "metadata": {},
   "outputs": [
    {
     "name": "stdout",
     "output_type": "stream",
     "text": [
      "0.9999998706510257\n",
      "0.9665449337701499\n"
     ]
    }
   ],
   "source": [
    "print(r2_score(ytrain,ypred_train_XGBoost))\n",
    "print(r2_score(ytest,ypred_test_XGBoost)) "
   ]
  },
  {
   "cell_type": "code",
   "execution_count": 51,
   "id": "28ee24aa",
   "metadata": {},
   "outputs": [],
   "source": [
    "las=Lasso(alpha=0.6)\n",
    "las.fit(xtrain_sc,ytrain)\n",
    "ypred_train_las = las.predict(xtrain_sc)\n",
    "ypred_test_las = las.predict(xtest_sc)"
   ]
  },
  {
   "cell_type": "code",
   "execution_count": 52,
   "id": "e847b98d",
   "metadata": {},
   "outputs": [
    {
     "name": "stdout",
     "output_type": "stream",
     "text": [
      "0.8709131606481074\n",
      "0.8683216243426592\n"
     ]
    }
   ],
   "source": [
    "print(r2_score(ytrain,ypred_train_las))\n",
    "print(r2_score(ytest,ypred_test_las)) "
   ]
  },
  {
   "cell_type": "code",
   "execution_count": 53,
   "id": "8f24316e",
   "metadata": {},
   "outputs": [],
   "source": [
    "models = pd.DataFrame(\n",
    "    {\n",
    "        'Model' : ['LR', 'LR', 'RF', 'RF', 'XGB', 'XGB', 'LS', 'LS'],\n",
    "        'Group' : [\n",
    "            'train',\n",
    "            'test',\n",
    "            'train',\n",
    "            'test', \n",
    "            'train',\n",
    "            'test', \n",
    "            'train',\n",
    "            'test'], \n",
    "        'Accuracy2' : [\n",
    "             r2_score(ytrain, ypred_train)*100,\n",
    "             r2_score(ytest, ypred_test)*100,\n",
    "             r2_score(ytrain, ypred_train_rf)*100,\n",
    "             r2_score(ytest, ypred_test_rf)*100,\n",
    "             r2_score(ytrain, ypred_train_XGBoost)*100,\n",
    "             r2_score(ytest, ypred_test_XGBoost)*100,\n",
    "             r2_score(ytrain, ypred_train_las)*100,\n",
    "             r2_score(ytest, ypred_test_las)*100,\n",
    "        ]\n",
    "    }\n",
    ")"
   ]
  },
  {
   "cell_type": "code",
   "execution_count": 54,
   "id": "422698fc",
   "metadata": {},
   "outputs": [
    {
     "data": {
      "text/html": [
       "<div>\n",
       "<style scoped>\n",
       "    .dataframe tbody tr th:only-of-type {\n",
       "        vertical-align: middle;\n",
       "    }\n",
       "\n",
       "    .dataframe tbody tr th {\n",
       "        vertical-align: top;\n",
       "    }\n",
       "\n",
       "    .dataframe thead th {\n",
       "        text-align: right;\n",
       "    }\n",
       "</style>\n",
       "<table border=\"1\" class=\"dataframe\">\n",
       "  <thead>\n",
       "    <tr style=\"text-align: right;\">\n",
       "      <th></th>\n",
       "      <th>Model</th>\n",
       "      <th>Group</th>\n",
       "      <th>Accuracy2</th>\n",
       "    </tr>\n",
       "  </thead>\n",
       "  <tbody>\n",
       "    <tr>\n",
       "      <th>0</th>\n",
       "      <td>LR</td>\n",
       "      <td>train</td>\n",
       "      <td>89.512629</td>\n",
       "    </tr>\n",
       "    <tr>\n",
       "      <th>1</th>\n",
       "      <td>LR</td>\n",
       "      <td>test</td>\n",
       "      <td>89.991220</td>\n",
       "    </tr>\n",
       "    <tr>\n",
       "      <th>2</th>\n",
       "      <td>RF</td>\n",
       "      <td>train</td>\n",
       "      <td>99.002079</td>\n",
       "    </tr>\n",
       "    <tr>\n",
       "      <th>3</th>\n",
       "      <td>RF</td>\n",
       "      <td>test</td>\n",
       "      <td>97.587568</td>\n",
       "    </tr>\n",
       "    <tr>\n",
       "      <th>4</th>\n",
       "      <td>XGB</td>\n",
       "      <td>train</td>\n",
       "      <td>99.999987</td>\n",
       "    </tr>\n",
       "    <tr>\n",
       "      <th>5</th>\n",
       "      <td>XGB</td>\n",
       "      <td>test</td>\n",
       "      <td>96.654493</td>\n",
       "    </tr>\n",
       "    <tr>\n",
       "      <th>6</th>\n",
       "      <td>LS</td>\n",
       "      <td>train</td>\n",
       "      <td>87.091316</td>\n",
       "    </tr>\n",
       "    <tr>\n",
       "      <th>7</th>\n",
       "      <td>LS</td>\n",
       "      <td>test</td>\n",
       "      <td>86.832162</td>\n",
       "    </tr>\n",
       "  </tbody>\n",
       "</table>\n",
       "</div>"
      ],
      "text/plain": [
       "  Model  Group  Accuracy2\n",
       "0    LR  train  89.512629\n",
       "1    LR   test  89.991220\n",
       "2    RF  train  99.002079\n",
       "3    RF   test  97.587568\n",
       "4   XGB  train  99.999987\n",
       "5   XGB   test  96.654493\n",
       "6    LS  train  87.091316\n",
       "7    LS   test  86.832162"
      ]
     },
     "execution_count": 54,
     "metadata": {},
     "output_type": "execute_result"
    }
   ],
   "source": [
    "models"
   ]
  },
  {
   "cell_type": "code",
   "execution_count": 55,
   "id": "27cf755a",
   "metadata": {},
   "outputs": [
    {
     "data": {
      "image/png": "[encoded data removed]",
      "text/plain": [
       "<Figure size 432x288 with 1 Axes>"
      ]
     },
     "metadata": {
      "needs_background": "light"
     },
     "output_type": "display_data"
    }
   ],
   "source": [
    "sns.barplot(\n",
    "    x='Model',\n",
    "    y='Accuracy2',\n",
    "    hue='Group',\n",
    "    data= models\n",
    ")\n",
    "plt.xlabel('Model')\n",
    "plt.ylabel('Accuracy')\n",
    "plt.show()"
   ]
  },
  {
   "cell_type": "code",
   "execution_count": 56,
   "id": "68841c76",
   "metadata": {},
   "outputs": [
    {
     "name": "stdout",
     "output_type": "stream",
     "text": [
      "Predicted Sales: [24.97468729]\n"
     ]
    }
   ],
   "source": [
    "new_data = pd.DataFrame({'TV': [25], 'Radio': [63], 'Newspaper': [80]})\n",
    "predicted_sales = rf.predict(new_data)\n",
    "print(\"Predicted Sales:\", predicted_sales)"
   ]
  },
  {
   "cell_type": "code",
   "execution_count": null,
   "id": "9d3bb78c",
   "metadata": {},
   "outputs": [],
   "source": []
  }
 ],
 "metadata": {
  "kernelspec": {
   "display_name": "Python 3 (ipykernel)",
   "language": "python",
   "name": "python3"
  },
  "language_info": {
   "codemirror_mode": {
    "name": "ipython",
    "version": 3
   },
   "file_extension": ".py",
   "mimetype": "text/x-python",
   "name": "python",
   "nbconvert_exporter": "python",
   "pygments_lexer": "ipython3",
   "version": "3.9.7"
  }
 },
 "nbformat": 4,
 "nbformat_minor": 5
}
